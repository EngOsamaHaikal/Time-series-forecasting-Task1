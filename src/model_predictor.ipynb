{
  "nbformat": 4,
  "nbformat_minor": 0,
  "metadata": {
    "colab": {
      "name": "model_predictor.ipynb",
      "provenance": [],
      "include_colab_link": true
    },
    "kernelspec": {
      "name": "python3",
      "display_name": "Python 3"
    },
    "language_info": {
      "name": "python"
    },
    "accelerator": "GPU"
  },
  "cells": [
    {
      "cell_type": "markdown",
      "metadata": {
        "id": "view-in-github",
        "colab_type": "text"
      },
      "source": [
        "<a href=\"https://colab.research.google.com/github/EngOsamaHaikal/Time-series-forecasting-Task1/blob/master/src/model_predictor.ipynb\" target=\"_parent\"><img src=\"https://colab.research.google.com/assets/colab-badge.svg\" alt=\"Open In Colab\"/></a>"
      ]
    },
    {
      "cell_type": "code",
      "metadata": {
        "id": "WY2jSBK56kFo"
      },
      "source": [
        "import matplotlib.pyplot as plt\n",
        "import pandas as pd\n",
        "import tensorflow as tf\n",
        "import numpy as np\n",
        "from TimeSeriesModule import seq2seq_window_dataset , model_forecast\n",
        "keras= tf.keras\n",
        "tf.random.set_seed(42)\n",
        "np.random.seed(42)\n"
      ],
      "execution_count": 7,
      "outputs": []
    },
    {
      "cell_type": "markdown",
      "metadata": {
        "id": "y-ftsvPtwbtp"
      },
      "source": [
        "# prepare the time series data :"
      ]
    },
    {
      "cell_type": "code",
      "metadata": {
        "id": "P07R-JeHuwTP"
      },
      "source": [
        "sensor_data = pd.read_csv('/content/TVC_logger_ 3_betula.csv')\n",
        "\n",
        "time = np.arange(107823)\n",
        "window_size = 32 \n",
        "humidity_series = pd.DataFrame(sensor_data['VWC.m3.per.m3.hummock'].values)\n",
        "humidity_reads = np.array(sensor_data[\"VWC.m3.per.m3.hummock\"])\n",
        "\n",
        "split_ratio = int(len(time)*0.70)\n",
        "\n",
        "time_train = time[:split_ratio]\n",
        "\n",
        "x_train = humidity_reads[:split_ratio]\n",
        "\n",
        "time_valid = time[split_ratio:]\n",
        "\n",
        "x_valid = humidity_reads[split_ratio:]"
      ],
      "execution_count": 8,
      "outputs": []
    },
    {
      "cell_type": "markdown",
      "metadata": {
        "id": "KsScoK8QwzKq"
      },
      "source": [
        "# load the wavenet model\n",
        "\n",
        "> Make sure that the model is in your directory\n",
        "\n"
      ]
    },
    {
      "cell_type": "code",
      "metadata": {
        "id": "Bv2fgDqR9Tjs"
      },
      "source": [
        "model_1 = keras.models.load_model(\"wavenetModel (1).h5\")\n"
      ],
      "execution_count": 9,
      "outputs": []
    },
    {
      "cell_type": "code",
      "metadata": {
        "id": "DlZwSgVJvIC-"
      },
      "source": [
        "cnn_forecast = model_forecast(model_1, humidity_series , window_size)\n",
        "cnn_forecast = cnn_forecast[split_ratio - window_size:-1, -1, 0]"
      ],
      "execution_count": 10,
      "outputs": []
    },
    {
      "cell_type": "code",
      "metadata": {
        "colab": {
          "base_uri": "https://localhost:8080/"
        },
        "id": "Nn75IrLOvKpe",
        "outputId": "c60389f1-c8cb-4773-c329-fa411a2278cc"
      },
      "source": [
        "keras.metrics.mean_absolute_error(x_valid, cnn_forecast).numpy()"
      ],
      "execution_count": 11,
      "outputs": [
        {
          "output_type": "execute_result",
          "data": {
            "text/plain": [
              "0.00019387253"
            ]
          },
          "metadata": {
            "tags": []
          },
          "execution_count": 11
        }
      ]
    },
    {
      "cell_type": "code",
      "metadata": {
        "colab": {
          "base_uri": "https://localhost:8080/"
        },
        "id": "6PFM_kaj91PG",
        "outputId": "c281326f-f553-4d74-baa2-322fb5295b5a"
      },
      "source": [
        "model_1.summary()"
      ],
      "execution_count": 12,
      "outputs": [
        {
          "output_type": "stream",
          "text": [
            "Model: \"sequential_1\"\n",
            "_________________________________________________________________\n",
            "Layer (type)                 Output Shape              Param #   \n",
            "=================================================================\n",
            "conv1d_8 (Conv1D)            (None, None, 32)          64        \n",
            "_________________________________________________________________\n",
            "conv1d_9 (Conv1D)            (None, None, 32)          1056      \n",
            "_________________________________________________________________\n",
            "conv1d_10 (Conv1D)           (None, None, 32)          1056      \n",
            "_________________________________________________________________\n",
            "conv1d_11 (Conv1D)           (None, None, 32)          1056      \n",
            "_________________________________________________________________\n",
            "conv1d_12 (Conv1D)           (None, None, 32)          1056      \n",
            "_________________________________________________________________\n",
            "conv1d_13 (Conv1D)           (None, None, 32)          1056      \n",
            "_________________________________________________________________\n",
            "conv1d_14 (Conv1D)           (None, None, 32)          1056      \n",
            "_________________________________________________________________\n",
            "conv1d_15 (Conv1D)           (None, None, 1)           33        \n",
            "=================================================================\n",
            "Total params: 6,433\n",
            "Trainable params: 6,433\n",
            "Non-trainable params: 0\n",
            "_________________________________________________________________\n"
          ],
          "name": "stdout"
        }
      ]
    },
    {
      "cell_type": "code",
      "metadata": {
        "colab": {
          "base_uri": "https://localhost:8080/",
          "height": 391
        },
        "id": "gjolHcsqwGCd",
        "outputId": "887c976b-514f-419a-91bc-b5b1debb2e57"
      },
      "source": [
        "plt.figure(figsize=(10, 6))\n",
        "plt.plot(time_valid, x_valid)\n",
        "plt.plot(time_valid, cnn_forecast)"
      ],
      "execution_count": 13,
      "outputs": [
        {
          "output_type": "execute_result",
          "data": {
            "text/plain": [
              "[<matplotlib.lines.Line2D at 0x7f144d2a6490>]"
            ]
          },
          "metadata": {
            "tags": []
          },
          "execution_count": 13
        },
        {
          "output_type": "display_data",
          "data": {
            "image/png": "[encoded data removed]",
            "text/plain": [
              "<Figure size 720x432 with 1 Axes>"
            ]
          },
          "metadata": {
            "tags": [],
            "needs_background": "light"
          }
        }
      ]
    },
    {
      "cell_type": "markdown",
      "metadata": {
        "id": "e8HP6wddAy58"
      },
      "source": [
        "# Load the LSTM model"
      ]
    },
    {
      "cell_type": "code",
      "metadata": {
        "id": "bwpBaV1bA4pf"
      },
      "source": [
        "model_2 = keras.models.load_model(\"LSTM_CNN.h5\")"
      ],
      "execution_count": 34,
      "outputs": []
    },
    {
      "cell_type": "code",
      "metadata": {
        "id": "pknWU9quA-kS"
      },
      "source": [
        "cnn_forecast_2 = model_forecast(model_2, humidity_series , window_size)\n",
        "cnn_forecast_2 = cnn_forecast_2[split_ratio - window_size:-1, -1, 0]"
      ],
      "execution_count": 35,
      "outputs": []
    },
    {
      "cell_type": "code",
      "metadata": {
        "colab": {
          "base_uri": "https://localhost:8080/"
        },
        "id": "FdV87-3GBDsz",
        "outputId": "2d9ae536-4ca1-4c52-8763-ed1a8e01fe14"
      },
      "source": [
        "keras.metrics.mean_absolute_error(x_valid, cnn_forecast_2).numpy()"
      ],
      "execution_count": 36,
      "outputs": [
        {
          "output_type": "execute_result",
          "data": {
            "text/plain": [
              "0.00019311179"
            ]
          },
          "metadata": {
            "tags": []
          },
          "execution_count": 36
        }
      ]
    },
    {
      "cell_type": "code",
      "metadata": {
        "colab": {
          "base_uri": "https://localhost:8080/"
        },
        "id": "-8PsfX_nBFKL",
        "outputId": "f1853ee7-5770-4618-cb06-cc1a054abbb8"
      },
      "source": [
        "model_2.summary()"
      ],
      "execution_count": 37,
      "outputs": [
        {
          "output_type": "stream",
          "text": [
            "Model: \"sequential\"\n",
            "_________________________________________________________________\n",
            "Layer (type)                 Output Shape              Param #   \n",
            "=================================================================\n",
            "conv1d (Conv1D)              (None, None, 32)          96        \n",
            "_________________________________________________________________\n",
            "conv1d_1 (Conv1D)            (None, None, 1)           33        \n",
            "_________________________________________________________________\n",
            "lstm (LSTM)                  (None, None, 32)          4352      \n",
            "_________________________________________________________________\n",
            "lstm_1 (LSTM)                (None, None, 32)          8320      \n",
            "_________________________________________________________________\n",
            "dense (Dense)                (None, None, 1)           33        \n",
            "=================================================================\n",
            "Total params: 12,834\n",
            "Trainable params: 12,834\n",
            "Non-trainable params: 0\n",
            "_________________________________________________________________\n"
          ],
          "name": "stdout"
        }
      ]
    },
    {
      "cell_type": "code",
      "metadata": {
        "colab": {
          "base_uri": "https://localhost:8080/",
          "height": 391
        },
        "id": "aWdXz8-_ByZs",
        "outputId": "336decb3-93db-4aa9-b4d0-00c6b6912956"
      },
      "source": [
        "plt.figure(figsize=(10, 6))\n",
        "plt.plot(time_valid, x_valid)\n",
        "plt.plot(time_valid, cnn_forecast_2)"
      ],
      "execution_count": 38,
      "outputs": [
        {
          "output_type": "execute_result",
          "data": {
            "text/plain": [
              "[<matplotlib.lines.Line2D at 0x7f13ee2318d0>]"
            ]
          },
          "metadata": {
            "tags": []
          },
          "execution_count": 38
        },
        {
          "output_type": "display_data",
          "data": {
            "image/png": "[encoded data removed]",
            "text/plain": [
              "<Figure size 720x432 with 1 Axes>"
            ]
          },
          "metadata": {
            "tags": [],
            "needs_background": "light"
          }
        }
      ]
    }
  ]
}