{
  "nbformat": 4,
  "nbformat_minor": 0,
  "metadata": {
    "colab": {
      "name": "wavenet_model_predictor.ipynb",
      "provenance": []
    },
    "kernelspec": {
      "name": "python3",
      "display_name": "Python 3"
    },
    "language_info": {
      "name": "python"
    }
  },
  "cells": [
    {
      "cell_type": "code",
      "metadata": {
        "id": "WY2jSBK56kFo"
      },
      "source": [
        "import math\n",
        "import matplotlib.pyplot as plt\n",
        "#from statsmodels.tsa.ar_model import AutoReg\n",
        "import pandas as pd\n",
        "import tensorflow as tf\n",
        "import numpy as np\n",
        "from TimeSeriesModule import seq2seq_window_dataset , model_forecast\n",
        "keras= tf.keras\n",
        "tf.random.set_seed(42)\n",
        "np.random.seed(42)\n"
      ],
      "execution_count": 2,
      "outputs": []
    },
    {
      "cell_type": "markdown",
      "metadata": {
        "id": "y-ftsvPtwbtp"
      },
      "source": [
        "# prepare the time series data :"
      ]
    },
    {
      "cell_type": "code",
      "metadata": {
        "id": "P07R-JeHuwTP"
      },
      "source": [
        "sensor_data = pd.read_csv('/content/TVC_logger_ 3_betula.csv')\n",
        "\n",
        "time = np.arange(107823)\n",
        "\n",
        "humidity_series = pd.DataFrame(sensor_data['VWC.m3.per.m3.hummock'].values)\n",
        "humidity_reads = np.array(sensor_data[\"VWC.m3.per.m3.hummock\"])\n",
        "\n",
        "split_ratio = int(len(time)*0.70)\n",
        "\n",
        "time_train = time[:split_ratio]\n",
        "\n",
        "x_train = humidity_reads[:split_ratio]\n",
        "\n",
        "time_valid = time[split_ratio:]\n",
        "\n",
        "x_valid = humidity_reads[split_ratio:]"
      ],
      "execution_count": 13,
      "outputs": []
    },
    {
      "cell_type": "markdown",
      "metadata": {
        "id": "AQOg0FDfwgUJ"
      },
      "source": [
        "# Map the data into x , y data\n",
        "\n",
        "> Make sure that the functions was imported above.\n",
        "\n",
        "> Make sure that the WaveNetModule in your directory\n",
        "\n",
        "\n",
        "\n",
        "\n"
      ]
    },
    {
      "cell_type": "code",
      "metadata": {
        "id": "6TTBx4GrvBTr"
      },
      "source": [
        "\n",
        "window_size = 32\n",
        "train_set = seq2seq_window_dataset(x_train, window_size,\n",
        "                                   batch_size=164)\n",
        "valid_set = seq2seq_window_dataset(x_valid, window_size,\n",
        "                                   batch_size=164)\n"
      ],
      "execution_count": 15,
      "outputs": []
    },
    {
      "cell_type": "markdown",
      "metadata": {
        "id": "KsScoK8QwzKq"
      },
      "source": [
        "# load the wavenet model\n",
        "\n",
        "> Make sure that the model is in your directory\n",
        "\n"
      ]
    },
    {
      "cell_type": "code",
      "metadata": {
        "id": "Bv2fgDqR9Tjs"
      },
      "source": [
        "model = keras.models.load_model(\"wavenetModel (1).h5\")"
      ],
      "execution_count": 16,
      "outputs": []
    },
    {
      "cell_type": "code",
      "metadata": {
        "id": "DlZwSgVJvIC-"
      },
      "source": [
        "cnn_forecast = model_forecast(model, humidity_series , window_size)\n",
        "cnn_forecast = cnn_forecast[split_ratio - window_size:-1, -1, 0]"
      ],
      "execution_count": 17,
      "outputs": []
    },
    {
      "cell_type": "code",
      "metadata": {
        "colab": {
          "base_uri": "https://localhost:8080/"
        },
        "id": "Nn75IrLOvKpe",
        "outputId": "90229476-00e0-406a-bb38-4116b4d6198f"
      },
      "source": [
        "keras.metrics.mean_absolute_error(x_valid, cnn_forecast).numpy()"
      ],
      "execution_count": 18,
      "outputs": [
        {
          "output_type": "execute_result",
          "data": {
            "text/plain": [
              "0.00019387263"
            ]
          },
          "metadata": {
            "tags": []
          },
          "execution_count": 18
        }
      ]
    },
    {
      "cell_type": "code",
      "metadata": {
        "colab": {
          "base_uri": "https://localhost:8080/",
          "height": 391
        },
        "id": "gjolHcsqwGCd",
        "outputId": "9498c930-94e8-4cc0-ecee-599ad002f9c8"
      },
      "source": [
        "plt.figure(figsize=(10, 6))\n",
        "plt.plot(time_valid, x_valid)\n",
        "plt.plot(time_valid, cnn_forecast)"
      ],
      "execution_count": 20,
      "outputs": [
        {
          "output_type": "execute_result",
          "data": {
            "text/plain": [
              "[<matplotlib.lines.Line2D at 0x7f61c2e1c390>]"
            ]
          },
          "metadata": {
            "tags": []
          },
          "execution_count": 20
        },
        {
          "output_type": "display_data",
          "data": {
            "image/png": "[encoded data removed]",
            "text/plain": [
              "<Figure size 720x432 with 1 Axes>"
            ]
          },
          "metadata": {
            "tags": [],
            "needs_background": "light"
          }
        }
      ]
    },
    {
      "cell_type": "code",
      "metadata": {
        "colab": {
          "base_uri": "https://localhost:8080/"
        },
        "id": "6PFM_kaj91PG",
        "outputId": "bec5585b-8248-48ca-c3b4-90ba244ae695"
      },
      "source": [
        "model.summary()"
      ],
      "execution_count": 19,
      "outputs": [
        {
          "output_type": "stream",
          "text": [
            "Model: \"sequential_1\"\n",
            "_________________________________________________________________\n",
            "Layer (type)                 Output Shape              Param #   \n",
            "=================================================================\n",
            "conv1d_8 (Conv1D)            (None, None, 32)          64        \n",
            "_________________________________________________________________\n",
            "conv1d_9 (Conv1D)            (None, None, 32)          1056      \n",
            "_________________________________________________________________\n",
            "conv1d_10 (Conv1D)           (None, None, 32)          1056      \n",
            "_________________________________________________________________\n",
            "conv1d_11 (Conv1D)           (None, None, 32)          1056      \n",
            "_________________________________________________________________\n",
            "conv1d_12 (Conv1D)           (None, None, 32)          1056      \n",
            "_________________________________________________________________\n",
            "conv1d_13 (Conv1D)           (None, None, 32)          1056      \n",
            "_________________________________________________________________\n",
            "conv1d_14 (Conv1D)           (None, None, 32)          1056      \n",
            "_________________________________________________________________\n",
            "conv1d_15 (Conv1D)           (None, None, 1)           33        \n",
            "=================================================================\n",
            "Total params: 6,433\n",
            "Trainable params: 6,433\n",
            "Non-trainable params: 0\n",
            "_________________________________________________________________\n"
          ],
          "name": "stdout"
        }
      ]
    }
  ]
}